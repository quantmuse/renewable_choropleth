{
  "nbformat": 4,
  "nbformat_minor": 0,
  "metadata": {
    "colab": {
      "provenance": [],
      "authorship_tag": "ABX9TyNFBFdEM2S+OnslETvgK1cZ",
      "include_colab_link": true
    },
    "kernelspec": {
      "name": "python3",
      "display_name": "Python 3"
    },
    "language_info": {
      "name": "python"
    }
  },
  "cells": [
    {
      "cell_type": "markdown",
      "metadata": {
        "id": "view-in-github",
        "colab_type": "text"
      },
      "source": [
        "<a href=\"https://colab.research.google.com/github/quantmuse/renewable_choropleth/blob/main/renewable_choropleth.ipynb\" target=\"_parent\"><img src=\"https://colab.research.google.com/assets/colab-badge.svg\" alt=\"Open In Colab\"/></a>"
      ]
    },
    {
      "cell_type": "code",
      "execution_count": 1,
      "metadata": {
        "colab": {
          "base_uri": "https://localhost:8080/"
        },
        "id": "NQAl0RpcYdfL",
        "outputId": "e3985219-2239-4298-b4a2-6c7a67e2af2f"
      },
      "outputs": [
        {
          "output_type": "stream",
          "name": "stdout",
          "text": [
            "Requirement already satisfied: pandas in /usr/local/lib/python3.11/dist-packages (2.2.2)\n",
            "Requirement already satisfied: numpy>=1.23.2 in /usr/local/lib/python3.11/dist-packages (from pandas) (1.26.4)\n",
            "Requirement already satisfied: python-dateutil>=2.8.2 in /usr/local/lib/python3.11/dist-packages (from pandas) (2.8.2)\n",
            "Requirement already satisfied: pytz>=2020.1 in /usr/local/lib/python3.11/dist-packages (from pandas) (2025.1)\n",
            "Requirement already satisfied: tzdata>=2022.7 in /usr/local/lib/python3.11/dist-packages (from pandas) (2025.1)\n",
            "Requirement already satisfied: six>=1.5 in /usr/local/lib/python3.11/dist-packages (from python-dateutil>=2.8.2->pandas) (1.17.0)\n",
            "Requirement already satisfied: plotly in /usr/local/lib/python3.11/dist-packages (5.24.1)\n",
            "Requirement already satisfied: tenacity>=6.2.0 in /usr/local/lib/python3.11/dist-packages (from plotly) (9.0.0)\n",
            "Requirement already satisfied: packaging in /usr/local/lib/python3.11/dist-packages (from plotly) (24.2)\n"
          ]
        }
      ],
      "source": [
        "!pip install pandas\n",
        "!pip install plotly"
      ]
    },
    {
      "cell_type": "code",
      "source": [
        "import plotly.express as px\n",
        "import pandas as pd\n",
        "from pandas_datareader import wb"
      ],
      "metadata": {
        "id": "DdA0RSj4dEb7"
      },
      "execution_count": 2,
      "outputs": []
    },
    {
      "cell_type": "code",
      "source": [
        "# get country name and ISO id for mapping on choropleth\n",
        "countries = wb.get_countries()\n",
        "countries[\"capitalCity\"].replace({\"\": None}, inplace=True)\n",
        "countries.dropna(subset=[\"capitalCity\"], inplace=True)\n",
        "countries = countries[[\"name\", \"iso3c\"]]\n",
        "countries = countries[countries[\"name\"] != \"Kosovo\"]\n",
        "countries = countries.rename(columns={\"name\": \"country\"})"
      ],
      "metadata": {
        "colab": {
          "base_uri": "https://localhost:8080/"
        },
        "id": "slNfmHSsdUV5",
        "outputId": "5e207832-3faf-4f17-fc95-713c47bfb1f6"
      },
      "execution_count": 3,
      "outputs": [
        {
          "output_type": "stream",
          "name": "stderr",
          "text": [
            "<ipython-input-3-5ee981bde0f9>:3: FutureWarning: A value is trying to be set on a copy of a DataFrame or Series through chained assignment using an inplace method.\n",
            "The behavior will change in pandas 3.0. This inplace method will never work because the intermediate object on which we are setting values always behaves as a copy.\n",
            "\n",
            "For example, when doing 'df[col].method(value, inplace=True)', try using 'df.method({col: value}, inplace=True)' or df[col] = df[col].method(value) instead, to perform the operation inplace on the original object.\n",
            "\n",
            "\n",
            "  countries[\"capitalCity\"].replace({\"\": None}, inplace=True)\n"
          ]
        }
      ]
    },
    {
      "cell_type": "code",
      "source": [
        "# specify the indicators you want, then extract the data from worldbank api\n",
        "indicators = {\"EG.ELC.RNWX.KH\": \"Electricity production from renewable sources, excluding hydroelectric (kWh)\"}\n",
        "# specify years\n",
        "years_chosen = [2010, 2015] # between these two years"
      ],
      "metadata": {
        "colab": {
          "base_uri": "https://localhost:8080/"
        },
        "id": "4gtgLlhMdbkq",
        "outputId": "2b4cfd1b-585a-4af5-cca0-368ae6ba4985"
      },
      "execution_count": 4,
      "outputs": [
        {
          "output_type": "stream",
          "name": "stderr",
          "text": [
            "<ipython-input-4-66a5ca5735e6>:4: FutureWarning: errors='ignore' is deprecated and will raise in a future version. Use to_numeric without passing `errors` and catch exceptions explicitly instead\n",
            "  df = wb.download(\n"
          ]
        }
      ]
    },
    {
      "cell_type": "code",
      "source": [
        "df = wb.download(\n",
        "        indicator=(list(indicators)), country=countries[\"iso3c\"], start=years_chosen[0], end=years_chosen[1]\n",
        ")\n",
        "df = df.reset_index()\n",
        "df.year = df.year.astype(int)\n",
        "\n",
        "# Add country ISO3 id to main df\n",
        "df = pd.merge(df, countries, on=\"country\")\n",
        "df = df.rename(columns=indicators)"
      ],
      "metadata": {
        "id": "TOqk4Az5m4I9"
      },
      "execution_count": null,
      "outputs": []
    },
    {
      "cell_type": "code",
      "source": [
        "\n",
        "dff = df[df.year.between(years_chosen[0], years_chosen[1])]\n",
        "dff = dff.groupby([\"iso3c\", \"country\"])[list(indicators.values())[0]].mean()\n",
        "dff = dff.reset_index()\n",
        "\n",
        "# generate choropleth\n",
        "fig = px.choropleth(\n",
        "      data_frame=dff,\n",
        "      locations=\"iso3c\",\n",
        "      color=list(indicators.values())[0],\n",
        "      scope=\"world\",\n",
        "      hover_data={\"iso3c\": False, \"country\": True},\n",
        "      )\n",
        "\n",
        "fig.update_layout(\n",
        "      geo={\"projection\": {\"type\": \"natural earth\"}},\n",
        "      margin=dict(l=50, r=50, t=50, b=50),\n",
        ")\n",
        "\n",
        "fig.show()"
      ],
      "metadata": {
        "colab": {
          "base_uri": "https://localhost:8080/",
          "height": 542
        },
        "id": "kMmGvhRwg32c",
        "outputId": "1ef9aded-8fa8-4d7a-a235-11aa1af890f3"
      },
      "execution_count": 9,
      "outputs": [
        {
          "output_type": "display_data",
          "data": {
            "text/html": [
              "<html>\n",
              "<head><meta charset=\"utf-8\" /></head>\n",
              "<body>\n",
              "    <div>            <script src=\"https://cdnjs.cloudflare.com/ajax/libs/mathjax/2.7.5/MathJax.js?config=TeX-AMS-MML_SVG\"></script><script type=\"text/javascript\">if (window.MathJax && window.MathJax.Hub && window.MathJax.Hub.Config) {window.MathJax.Hub.Config({SVG: {font: \"STIX-Web\"}});}</script>                <script type=\"text/javascript\">window.PlotlyConfig = {MathJaxConfig: 'local'};</script>\n",
              "        <script charset=\"utf-8\" src=\"https://cdn.plot.ly/plotly-2.35.2.min.js\"></script>                <div id=\"62d75373-468b-47bd-9b93-b3527015cba5\" class=\"plotly-graph-div\" style=\"height:525px; width:100%;\"></div>            <script type=\"text/javascript\">                                    window.PLOTLYENV=window.PLOTLYENV || {};                                    if (document.getElementById(\"62d75373-468b-47bd-9b93-b3527015cba5\")) {                    Plotly.newPlot(                        \"62d75373-468b-47bd-9b93-b3527015cba5\",                        [{\"coloraxis\":\"coloraxis\",\"customdata\":[[\"ABW\",\"Aruba\"],[\"AFG\",\"Afghanistan\"],[\"AGO\",\"Angola\"],[\"ALB\",\"Albania\"],[\"AND\",\"Andorra\"],[\"ARE\",\"United Arab Emirates\"],[\"ARG\",\"Argentina\"],[\"ARM\",\"Armenia\"],[\"ASM\",\"American Samoa\"],[\"ATG\",\"Antigua and Barbuda\"],[\"AUS\",\"Australia\"],[\"AUT\",\"Austria\"],[\"AZE\",\"Azerbaijan\"],[\"BDI\",\"Burundi\"],[\"BEL\",\"Belgium\"],[\"BEN\",\"Benin\"],[\"BFA\",\"Burkina Faso\"],[\"BGD\",\"Bangladesh\"],[\"BGR\",\"Bulgaria\"],[\"BHR\",\"Bahrain\"],[\"BHS\",\"Bahamas, The\"],[\"BIH\",\"Bosnia and Herzegovina\"],[\"BLR\",\"Belarus\"],[\"BLZ\",\"Belize\"],[\"BMU\",\"Bermuda\"],[\"BOL\",\"Bolivia\"],[\"BRA\",\"Brazil\"],[\"BRB\",\"Barbados\"],[\"BRN\",\"Brunei Darussalam\"],[\"BTN\",\"Bhutan\"],[\"BWA\",\"Botswana\"],[\"CAF\",\"Central African Republic\"],[\"CAN\",\"Canada\"],[\"CHE\",\"Switzerland\"],[\"CHL\",\"Chile\"],[\"CHN\",\"China\"],[\"CIV\",\"Cote d'Ivoire\"],[\"CMR\",\"Cameroon\"],[\"COD\",\"Congo, Dem. Rep.\"],[\"COG\",\"Congo, Rep.\"],[\"COL\",\"Colombia\"],[\"COM\",\"Comoros\"],[\"CPV\",\"Cabo Verde\"],[\"CRI\",\"Costa Rica\"],[\"CUB\",\"Cuba\"],[\"CUW\",\"Curacao\"],[\"CYM\",\"Cayman Islands\"],[\"CYP\",\"Cyprus\"],[\"CZE\",\"Czechia\"],[\"DEU\",\"Germany\"],[\"DJI\",\"Djibouti\"],[\"DMA\",\"Dominica\"],[\"DNK\",\"Denmark\"],[\"DOM\",\"Dominican Republic\"],[\"DZA\",\"Algeria\"],[\"ECU\",\"Ecuador\"],[\"EGY\",\"Egypt, Arab Rep.\"],[\"ERI\",\"Eritrea\"],[\"ESP\",\"Spain\"],[\"EST\",\"Estonia\"],[\"ETH\",\"Ethiopia\"],[\"FIN\",\"Finland\"],[\"FJI\",\"Fiji\"],[\"FRA\",\"France\"],[\"FRO\",\"Faroe Islands\"],[\"FSM\",\"Micronesia, Fed. Sts.\"],[\"GAB\",\"Gabon\"],[\"GBR\",\"United Kingdom\"],[\"GEO\",\"Georgia\"],[\"GHA\",\"Ghana\"],[\"GIN\",\"Guinea\"],[\"GMB\",\"Gambia, The\"],[\"GNB\",\"Guinea-Bissau\"],[\"GNQ\",\"Equatorial Guinea\"],[\"GRC\",\"Greece\"],[\"GRD\",\"Grenada\"],[\"GRL\",\"Greenland\"],[\"GTM\",\"Guatemala\"],[\"GUM\",\"Guam\"],[\"GUY\",\"Guyana\"],[\"HND\",\"Honduras\"],[\"HRV\",\"Croatia\"],[\"HTI\",\"Haiti\"],[\"HUN\",\"Hungary\"],[\"IDN\",\"Indonesia\"],[\"IMN\",\"Isle of Man\"],[\"IND\",\"India\"],[\"IRL\",\"Ireland\"],[\"IRN\",\"Iran, Islamic Rep.\"],[\"IRQ\",\"Iraq\"],[\"ISL\",\"Iceland\"],[\"ITA\",\"Italy\"],[\"JAM\",\"Jamaica\"],[\"JOR\",\"Jordan\"],[\"JPN\",\"Japan\"],[\"KAZ\",\"Kazakhstan\"],[\"KEN\",\"Kenya\"],[\"KGZ\",\"Kyrgyz Republic\"],[\"KHM\",\"Cambodia\"],[\"KIR\",\"Kiribati\"],[\"KNA\",\"St. Kitts and Nevis\"],[\"KOR\",\"Korea, Rep.\"],[\"KWT\",\"Kuwait\"],[\"LAO\",\"Lao PDR\"],[\"LBN\",\"Lebanon\"],[\"LBR\",\"Liberia\"],[\"LBY\",\"Libya\"],[\"LCA\",\"St. Lucia\"],[\"LIE\",\"Liechtenstein\"],[\"LKA\",\"Sri Lanka\"],[\"LSO\",\"Lesotho\"],[\"LTU\",\"Lithuania\"],[\"LUX\",\"Luxembourg\"],[\"LVA\",\"Latvia\"],[\"MAF\",\"St. Martin (French part)\"],[\"MAR\",\"Morocco\"],[\"MCO\",\"Monaco\"],[\"MDA\",\"Moldova\"],[\"MDG\",\"Madagascar\"],[\"MDV\",\"Maldives\"],[\"MEX\",\"Mexico\"],[\"MHL\",\"Marshall Islands\"],[\"MKD\",\"North Macedonia\"],[\"MLI\",\"Mali\"],[\"MLT\",\"Malta\"],[\"MMR\",\"Myanmar\"],[\"MNE\",\"Montenegro\"],[\"MNG\",\"Mongolia\"],[\"MNP\",\"Northern Mariana Islands\"],[\"MOZ\",\"Mozambique\"],[\"MRT\",\"Mauritania\"],[\"MUS\",\"Mauritius\"],[\"MWI\",\"Malawi\"],[\"MYS\",\"Malaysia\"],[\"NAM\",\"Namibia\"],[\"NCL\",\"New Caledonia\"],[\"NER\",\"Niger\"],[\"NGA\",\"Nigeria\"],[\"NIC\",\"Nicaragua\"],[\"NLD\",\"Netherlands\"],[\"NOR\",\"Norway\"],[\"NPL\",\"Nepal\"],[\"NRU\",\"Nauru\"],[\"NZL\",\"New Zealand\"],[\"OMN\",\"Oman\"],[\"PAK\",\"Pakistan\"],[\"PAN\",\"Panama\"],[\"PER\",\"Peru\"],[\"PHL\",\"Philippines\"],[\"PLW\",\"Palau\"],[\"PNG\",\"Papua New Guinea\"],[\"POL\",\"Poland\"],[\"PRI\",\"Puerto Rico\"],[\"PRK\",\"Korea, Dem. People's Rep.\"],[\"PRT\",\"Portugal\"],[\"PRY\",\"Paraguay\"],[\"PYF\",\"French Polynesia\"],[\"QAT\",\"Qatar\"],[\"ROU\",\"Romania\"],[\"RUS\",\"Russian Federation\"],[\"RWA\",\"Rwanda\"],[\"SAU\",\"Saudi Arabia\"],[\"SDN\",\"Sudan\"],[\"SEN\",\"Senegal\"],[\"SGP\",\"Singapore\"],[\"SLB\",\"Solomon Islands\"],[\"SLE\",\"Sierra Leone\"],[\"SLV\",\"El Salvador\"],[\"SMR\",\"San Marino\"],[\"SOM\",\"Somalia\"],[\"SRB\",\"Serbia\"],[\"SSD\",\"South Sudan\"],[\"STP\",\"Sao Tome and Principe\"],[\"SUR\",\"Suriname\"],[\"SVK\",\"Slovak Republic\"],[\"SVN\",\"Slovenia\"],[\"SWE\",\"Sweden\"],[\"SWZ\",\"Eswatini\"],[\"SXM\",\"Sint Maarten (Dutch part)\"],[\"SYC\",\"Seychelles\"],[\"SYR\",\"Syrian Arab Republic\"],[\"TCA\",\"Turks and Caicos Islands\"],[\"TCD\",\"Chad\"],[\"TGO\",\"Togo\"],[\"THA\",\"Thailand\"],[\"TJK\",\"Tajikistan\"],[\"TKM\",\"Turkmenistan\"],[\"TLS\",\"Timor-Leste\"],[\"TON\",\"Tonga\"],[\"TTO\",\"Trinidad and Tobago\"],[\"TUN\",\"Tunisia\"],[\"TUR\",\"Turkiye\"],[\"TUV\",\"Tuvalu\"],[\"TZA\",\"Tanzania\"],[\"UGA\",\"Uganda\"],[\"UKR\",\"Ukraine\"],[\"URY\",\"Uruguay\"],[\"USA\",\"United States\"],[\"UZB\",\"Uzbekistan\"],[\"VCT\",\"St. Vincent and the Grenadines\"],[\"VEN\",\"Venezuela, RB\"],[\"VGB\",\"British Virgin Islands\"],[\"VIR\",\"Virgin Islands (U.S.)\"],[\"VNM\",\"Viet Nam\"],[\"VUT\",\"Vanuatu\"],[\"WSM\",\"Samoa\"],[\"YEM\",\"Yemen, Rep.\"],[\"ZAF\",\"South Africa\"],[\"ZMB\",\"Zambia\"],[\"ZWE\",\"Zimbabwe\"]],\"geo\":\"geo\",\"hovertemplate\":\"country=%{customdata[1]}\\u003cbr\\u003eElectricity production from renewable sources, excluding hydroelectric (kWh)=%{z}\\u003cextra\\u003e\\u003c\\u002fextra\\u003e\",\"locations\":[\"ABW\",\"AFG\",\"AGO\",\"ALB\",\"AND\",\"ARE\",\"ARG\",\"ARM\",\"ASM\",\"ATG\",\"AUS\",\"AUT\",\"AZE\",\"BDI\",\"BEL\",\"BEN\",\"BFA\",\"BGD\",\"BGR\",\"BHR\",\"BHS\",\"BIH\",\"BLR\",\"BLZ\",\"BMU\",\"BOL\",\"BRA\",\"BRB\",\"BRN\",\"BTN\",\"BWA\",\"CAF\",\"CAN\",\"CHE\",\"CHL\",\"CHN\",\"CIV\",\"CMR\",\"COD\",\"COG\",\"COL\",\"COM\",\"CPV\",\"CRI\",\"CUB\",\"CUW\",\"CYM\",\"CYP\",\"CZE\",\"DEU\",\"DJI\",\"DMA\",\"DNK\",\"DOM\",\"DZA\",\"ECU\",\"EGY\",\"ERI\",\"ESP\",\"EST\",\"ETH\",\"FIN\",\"FJI\",\"FRA\",\"FRO\",\"FSM\",\"GAB\",\"GBR\",\"GEO\",\"GHA\",\"GIN\",\"GMB\",\"GNB\",\"GNQ\",\"GRC\",\"GRD\",\"GRL\",\"GTM\",\"GUM\",\"GUY\",\"HND\",\"HRV\",\"HTI\",\"HUN\",\"IDN\",\"IMN\",\"IND\",\"IRL\",\"IRN\",\"IRQ\",\"ISL\",\"ITA\",\"JAM\",\"JOR\",\"JPN\",\"KAZ\",\"KEN\",\"KGZ\",\"KHM\",\"KIR\",\"KNA\",\"KOR\",\"KWT\",\"LAO\",\"LBN\",\"LBR\",\"LBY\",\"LCA\",\"LIE\",\"LKA\",\"LSO\",\"LTU\",\"LUX\",\"LVA\",\"MAF\",\"MAR\",\"MCO\",\"MDA\",\"MDG\",\"MDV\",\"MEX\",\"MHL\",\"MKD\",\"MLI\",\"MLT\",\"MMR\",\"MNE\",\"MNG\",\"MNP\",\"MOZ\",\"MRT\",\"MUS\",\"MWI\",\"MYS\",\"NAM\",\"NCL\",\"NER\",\"NGA\",\"NIC\",\"NLD\",\"NOR\",\"NPL\",\"NRU\",\"NZL\",\"OMN\",\"PAK\",\"PAN\",\"PER\",\"PHL\",\"PLW\",\"PNG\",\"POL\",\"PRI\",\"PRK\",\"PRT\",\"PRY\",\"PYF\",\"QAT\",\"ROU\",\"RUS\",\"RWA\",\"SAU\",\"SDN\",\"SEN\",\"SGP\",\"SLB\",\"SLE\",\"SLV\",\"SMR\",\"SOM\",\"SRB\",\"SSD\",\"STP\",\"SUR\",\"SVK\",\"SVN\",\"SWE\",\"SWZ\",\"SXM\",\"SYC\",\"SYR\",\"TCA\",\"TCD\",\"TGO\",\"THA\",\"TJK\",\"TKM\",\"TLS\",\"TON\",\"TTO\",\"TUN\",\"TUR\",\"TUV\",\"TZA\",\"UGA\",\"UKR\",\"URY\",\"USA\",\"UZB\",\"VCT\",\"VEN\",\"VGB\",\"VIR\",\"VNM\",\"VUT\",\"WSM\",\"YEM\",\"ZAF\",\"ZMB\",\"ZWE\"],\"name\":\"\",\"z\":[null,null,0.0,0.0,null,116166666.66666667,2590000000.0,4333333.333333333,null,null,14192000000.0,8015166666.666667,43833333.333333336,null,10304666666.666666,1000000.0,null,74500000.0,2097500000.0,0.0,null,0.0,118500000.0,null,null,140000000.0,47430500000.0,null,1666666.6666666667,null,500000.0,null,28549666666.666668,2111333333.3333333,5902833333.333333,168466000000.0,73666666.66666667,66666666.666666664,9000000.0,0.0,2178000000.0,null,null,2151166666.6666665,607833333.3333334,null,null,258333333.33333334,5966500000.0,125390666666.66667,null,null,15711166666.666666,465333333.3333333,12833333.333333334,368833333.3333333,1635166666.6666667,2000000.0,65567500000.0,1272000000.0,310166666.6666667,12354166666.666666,null,24876666666.666668,null,null,10833333.333333334,45240500000.0,0.0,1666666.6666666667,null,null,null,null,6233000000.0,null,null,2121333333.3333333,null,null,893500000.0,592500000.0,0.0,2690333333.3333335,10077333333.333334,null,54810500000.0,5010000000.0,280000000.0,0.0,4980833333.333333,49679500000.0,255333333.33333334,30000000.0,53091333333.333336,33666666.666666664,2720166666.6666665,0.0,24000000.0,null,null,4510666666.666667,0.0,null,0.0,null,0.0,null,null,244833333.33333334,null,868166666.6666666,237666666.66666666,509166666.6666667,null,1334833333.3333333,null,6166666.666666667,null,null,11757666666.666666,null,43666666.666666664,null,41166666.666666664,0.0,0.0,70833333.33333333,null,0.0,null,519666666.6666667,null,1027000000.0,0.0,null,2500000.0,0.0,1455500000.0,12172333333.333334,2031166666.6666667,2333333.3333333335,null,9306000000.0,0.0,339833333.3333333,120500000.0,1119333333.3333333,10566666666.666666,null,null,14459166666.666666,null,0.0,14328666666.666666,0.0,null,0.0,4657833333.333333,638833333.3333334,null,666666.6666666666,0.0,67500000.0,720333333.3333334,null,null,1940500000.0,null,null,15166666.666666666,2000000.0,null,0.0,1496000000.0,421000000.0,20523333333.333332,null,null,null,0.0,null,null,4833333.333333333,6833166666.666667,0.0,0.0,null,null,0.0,307000000.0,9220166666.666666,null,34833333.333333336,null,992166666.6666666,1724500000.0,251056833333.33334,0.0,null,0.0,null,null,144000000.0,null,null,0.0,1396000000.0,0.0,138666666.66666666],\"type\":\"choropleth\"}],                        {\"template\":{\"data\":{\"histogram2dcontour\":[{\"type\":\"histogram2dcontour\",\"colorbar\":{\"outlinewidth\":0,\"ticks\":\"\"},\"colorscale\":[[0.0,\"#0d0887\"],[0.1111111111111111,\"#46039f\"],[0.2222222222222222,\"#7201a8\"],[0.3333333333333333,\"#9c179e\"],[0.4444444444444444,\"#bd3786\"],[0.5555555555555556,\"#d8576b\"],[0.6666666666666666,\"#ed7953\"],[0.7777777777777778,\"#fb9f3a\"],[0.8888888888888888,\"#fdca26\"],[1.0,\"#f0f921\"]]}],\"choropleth\":[{\"type\":\"choropleth\",\"colorbar\":{\"outlinewidth\":0,\"ticks\":\"\"}}],\"histogram2d\":[{\"type\":\"histogram2d\",\"colorbar\":{\"outlinewidth\":0,\"ticks\":\"\"},\"colorscale\":[[0.0,\"#0d0887\"],[0.1111111111111111,\"#46039f\"],[0.2222222222222222,\"#7201a8\"],[0.3333333333333333,\"#9c179e\"],[0.4444444444444444,\"#bd3786\"],[0.5555555555555556,\"#d8576b\"],[0.6666666666666666,\"#ed7953\"],[0.7777777777777778,\"#fb9f3a\"],[0.8888888888888888,\"#fdca26\"],[1.0,\"#f0f921\"]]}],\"heatmap\":[{\"type\":\"heatmap\",\"colorbar\":{\"outlinewidth\":0,\"ticks\":\"\"},\"colorscale\":[[0.0,\"#0d0887\"],[0.1111111111111111,\"#46039f\"],[0.2222222222222222,\"#7201a8\"],[0.3333333333333333,\"#9c179e\"],[0.4444444444444444,\"#bd3786\"],[0.5555555555555556,\"#d8576b\"],[0.6666666666666666,\"#ed7953\"],[0.7777777777777778,\"#fb9f3a\"],[0.8888888888888888,\"#fdca26\"],[1.0,\"#f0f921\"]]}],\"heatmapgl\":[{\"type\":\"heatmapgl\",\"colorbar\":{\"outlinewidth\":0,\"ticks\":\"\"},\"colorscale\":[[0.0,\"#0d0887\"],[0.1111111111111111,\"#46039f\"],[0.2222222222222222,\"#7201a8\"],[0.3333333333333333,\"#9c179e\"],[0.4444444444444444,\"#bd3786\"],[0.5555555555555556,\"#d8576b\"],[0.6666666666666666,\"#ed7953\"],[0.7777777777777778,\"#fb9f3a\"],[0.8888888888888888,\"#fdca26\"],[1.0,\"#f0f921\"]]}],\"contourcarpet\":[{\"type\":\"contourcarpet\",\"colorbar\":{\"outlinewidth\":0,\"ticks\":\"\"}}],\"contour\":[{\"type\":\"contour\",\"colorbar\":{\"outlinewidth\":0,\"ticks\":\"\"},\"colorscale\":[[0.0,\"#0d0887\"],[0.1111111111111111,\"#46039f\"],[0.2222222222222222,\"#7201a8\"],[0.3333333333333333,\"#9c179e\"],[0.4444444444444444,\"#bd3786\"],[0.5555555555555556,\"#d8576b\"],[0.6666666666666666,\"#ed7953\"],[0.7777777777777778,\"#fb9f3a\"],[0.8888888888888888,\"#fdca26\"],[1.0,\"#f0f921\"]]}],\"surface\":[{\"type\":\"surface\",\"colorbar\":{\"outlinewidth\":0,\"ticks\":\"\"},\"colorscale\":[[0.0,\"#0d0887\"],[0.1111111111111111,\"#46039f\"],[0.2222222222222222,\"#7201a8\"],[0.3333333333333333,\"#9c179e\"],[0.4444444444444444,\"#bd3786\"],[0.5555555555555556,\"#d8576b\"],[0.6666666666666666,\"#ed7953\"],[0.7777777777777778,\"#fb9f3a\"],[0.8888888888888888,\"#fdca26\"],[1.0,\"#f0f921\"]]}],\"mesh3d\":[{\"type\":\"mesh3d\",\"colorbar\":{\"outlinewidth\":0,\"ticks\":\"\"}}],\"scatter\":[{\"fillpattern\":{\"fillmode\":\"overlay\",\"size\":10,\"solidity\":0.2},\"type\":\"scatter\"}],\"parcoords\":[{\"type\":\"parcoords\",\"line\":{\"colorbar\":{\"outlinewidth\":0,\"ticks\":\"\"}}}],\"scatterpolargl\":[{\"type\":\"scatterpolargl\",\"marker\":{\"colorbar\":{\"outlinewidth\":0,\"ticks\":\"\"}}}],\"bar\":[{\"error_x\":{\"color\":\"#2a3f5f\"},\"error_y\":{\"color\":\"#2a3f5f\"},\"marker\":{\"line\":{\"color\":\"#E5ECF6\",\"width\":0.5},\"pattern\":{\"fillmode\":\"overlay\",\"size\":10,\"solidity\":0.2}},\"type\":\"bar\"}],\"scattergeo\":[{\"type\":\"scattergeo\",\"marker\":{\"colorbar\":{\"outlinewidth\":0,\"ticks\":\"\"}}}],\"scatterpolar\":[{\"type\":\"scatterpolar\",\"marker\":{\"colorbar\":{\"outlinewidth\":0,\"ticks\":\"\"}}}],\"histogram\":[{\"marker\":{\"pattern\":{\"fillmode\":\"overlay\",\"size\":10,\"solidity\":0.2}},\"type\":\"histogram\"}],\"scattergl\":[{\"type\":\"scattergl\",\"marker\":{\"colorbar\":{\"outlinewidth\":0,\"ticks\":\"\"}}}],\"scatter3d\":[{\"type\":\"scatter3d\",\"line\":{\"colorbar\":{\"outlinewidth\":0,\"ticks\":\"\"}},\"marker\":{\"colorbar\":{\"outlinewidth\":0,\"ticks\":\"\"}}}],\"scattermapbox\":[{\"type\":\"scattermapbox\",\"marker\":{\"colorbar\":{\"outlinewidth\":0,\"ticks\":\"\"}}}],\"scatterternary\":[{\"type\":\"scatterternary\",\"marker\":{\"colorbar\":{\"outlinewidth\":0,\"ticks\":\"\"}}}],\"scattercarpet\":[{\"type\":\"scattercarpet\",\"marker\":{\"colorbar\":{\"outlinewidth\":0,\"ticks\":\"\"}}}],\"carpet\":[{\"aaxis\":{\"endlinecolor\":\"#2a3f5f\",\"gridcolor\":\"white\",\"linecolor\":\"white\",\"minorgridcolor\":\"white\",\"startlinecolor\":\"#2a3f5f\"},\"baxis\":{\"endlinecolor\":\"#2a3f5f\",\"gridcolor\":\"white\",\"linecolor\":\"white\",\"minorgridcolor\":\"white\",\"startlinecolor\":\"#2a3f5f\"},\"type\":\"carpet\"}],\"table\":[{\"cells\":{\"fill\":{\"color\":\"#EBF0F8\"},\"line\":{\"color\":\"white\"}},\"header\":{\"fill\":{\"color\":\"#C8D4E3\"},\"line\":{\"color\":\"white\"}},\"type\":\"table\"}],\"barpolar\":[{\"marker\":{\"line\":{\"color\":\"#E5ECF6\",\"width\":0.5},\"pattern\":{\"fillmode\":\"overlay\",\"size\":10,\"solidity\":0.2}},\"type\":\"barpolar\"}],\"pie\":[{\"automargin\":true,\"type\":\"pie\"}]},\"layout\":{\"autotypenumbers\":\"strict\",\"colorway\":[\"#636efa\",\"#EF553B\",\"#00cc96\",\"#ab63fa\",\"#FFA15A\",\"#19d3f3\",\"#FF6692\",\"#B6E880\",\"#FF97FF\",\"#FECB52\"],\"font\":{\"color\":\"#2a3f5f\"},\"hovermode\":\"closest\",\"hoverlabel\":{\"align\":\"left\"},\"paper_bgcolor\":\"white\",\"plot_bgcolor\":\"#E5ECF6\",\"polar\":{\"bgcolor\":\"#E5ECF6\",\"angularaxis\":{\"gridcolor\":\"white\",\"linecolor\":\"white\",\"ticks\":\"\"},\"radialaxis\":{\"gridcolor\":\"white\",\"linecolor\":\"white\",\"ticks\":\"\"}},\"ternary\":{\"bgcolor\":\"#E5ECF6\",\"aaxis\":{\"gridcolor\":\"white\",\"linecolor\":\"white\",\"ticks\":\"\"},\"baxis\":{\"gridcolor\":\"white\",\"linecolor\":\"white\",\"ticks\":\"\"},\"caxis\":{\"gridcolor\":\"white\",\"linecolor\":\"white\",\"ticks\":\"\"}},\"coloraxis\":{\"colorbar\":{\"outlinewidth\":0,\"ticks\":\"\"}},\"colorscale\":{\"sequential\":[[0.0,\"#0d0887\"],[0.1111111111111111,\"#46039f\"],[0.2222222222222222,\"#7201a8\"],[0.3333333333333333,\"#9c179e\"],[0.4444444444444444,\"#bd3786\"],[0.5555555555555556,\"#d8576b\"],[0.6666666666666666,\"#ed7953\"],[0.7777777777777778,\"#fb9f3a\"],[0.8888888888888888,\"#fdca26\"],[1.0,\"#f0f921\"]],\"sequentialminus\":[[0.0,\"#0d0887\"],[0.1111111111111111,\"#46039f\"],[0.2222222222222222,\"#7201a8\"],[0.3333333333333333,\"#9c179e\"],[0.4444444444444444,\"#bd3786\"],[0.5555555555555556,\"#d8576b\"],[0.6666666666666666,\"#ed7953\"],[0.7777777777777778,\"#fb9f3a\"],[0.8888888888888888,\"#fdca26\"],[1.0,\"#f0f921\"]],\"diverging\":[[0,\"#8e0152\"],[0.1,\"#c51b7d\"],[0.2,\"#de77ae\"],[0.3,\"#f1b6da\"],[0.4,\"#fde0ef\"],[0.5,\"#f7f7f7\"],[0.6,\"#e6f5d0\"],[0.7,\"#b8e186\"],[0.8,\"#7fbc41\"],[0.9,\"#4d9221\"],[1,\"#276419\"]]},\"xaxis\":{\"gridcolor\":\"white\",\"linecolor\":\"white\",\"ticks\":\"\",\"title\":{\"standoff\":15},\"zerolinecolor\":\"white\",\"automargin\":true,\"zerolinewidth\":2},\"yaxis\":{\"gridcolor\":\"white\",\"linecolor\":\"white\",\"ticks\":\"\",\"title\":{\"standoff\":15},\"zerolinecolor\":\"white\",\"automargin\":true,\"zerolinewidth\":2},\"scene\":{\"xaxis\":{\"backgroundcolor\":\"#E5ECF6\",\"gridcolor\":\"white\",\"linecolor\":\"white\",\"showbackground\":true,\"ticks\":\"\",\"zerolinecolor\":\"white\",\"gridwidth\":2},\"yaxis\":{\"backgroundcolor\":\"#E5ECF6\",\"gridcolor\":\"white\",\"linecolor\":\"white\",\"showbackground\":true,\"ticks\":\"\",\"zerolinecolor\":\"white\",\"gridwidth\":2},\"zaxis\":{\"backgroundcolor\":\"#E5ECF6\",\"gridcolor\":\"white\",\"linecolor\":\"white\",\"showbackground\":true,\"ticks\":\"\",\"zerolinecolor\":\"white\",\"gridwidth\":2}},\"shapedefaults\":{\"line\":{\"color\":\"#2a3f5f\"}},\"annotationdefaults\":{\"arrowcolor\":\"#2a3f5f\",\"arrowhead\":0,\"arrowwidth\":1},\"geo\":{\"bgcolor\":\"white\",\"landcolor\":\"#E5ECF6\",\"subunitcolor\":\"white\",\"showland\":true,\"showlakes\":true,\"lakecolor\":\"white\"},\"title\":{\"x\":0.05},\"mapbox\":{\"style\":\"light\"}}},\"geo\":{\"domain\":{\"x\":[0.0,1.0],\"y\":[0.0,1.0]},\"center\":{},\"scope\":\"world\",\"projection\":{\"type\":\"natural earth\"}},\"coloraxis\":{\"colorbar\":{\"title\":{\"text\":\"Electricity production from renewable sources, excluding hydroelectric (kWh)\"}},\"colorscale\":[[0.0,\"#0d0887\"],[0.1111111111111111,\"#46039f\"],[0.2222222222222222,\"#7201a8\"],[0.3333333333333333,\"#9c179e\"],[0.4444444444444444,\"#bd3786\"],[0.5555555555555556,\"#d8576b\"],[0.6666666666666666,\"#ed7953\"],[0.7777777777777778,\"#fb9f3a\"],[0.8888888888888888,\"#fdca26\"],[1.0,\"#f0f921\"]]},\"legend\":{\"tracegroupgap\":0},\"margin\":{\"t\":50,\"l\":50,\"r\":50,\"b\":50}},                        {\"responsive\": true}                    ).then(function(){\n",
              "                            \n",
              "var gd = document.getElementById('62d75373-468b-47bd-9b93-b3527015cba5');\n",
              "var x = new MutationObserver(function (mutations, observer) {{\n",
              "        var display = window.getComputedStyle(gd).display;\n",
              "        if (!display || display === 'none') {{\n",
              "            console.log([gd, 'removed!']);\n",
              "            Plotly.purge(gd);\n",
              "            observer.disconnect();\n",
              "        }}\n",
              "}});\n",
              "\n",
              "// Listen for the removal of the full notebook cells\n",
              "var notebookContainer = gd.closest('#notebook-container');\n",
              "if (notebookContainer) {{\n",
              "    x.observe(notebookContainer, {childList: true});\n",
              "}}\n",
              "\n",
              "// Listen for the clearing of the current output cell\n",
              "var outputEl = gd.closest('.output');\n",
              "if (outputEl) {{\n",
              "    x.observe(outputEl, {childList: true});\n",
              "}}\n",
              "\n",
              "                        })                };                            </script>        </div>\n",
              "</body>\n",
              "</html>"
            ]
          },
          "metadata": {}
        }
      ]
    },
    {
      "cell_type": "code",
      "source": [],
      "metadata": {
        "id": "7Ab_SOvLiRch"
      },
      "execution_count": null,
      "outputs": []
    }
  ]
}